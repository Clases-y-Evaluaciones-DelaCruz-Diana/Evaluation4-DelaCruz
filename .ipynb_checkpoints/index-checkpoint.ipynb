{
 "cells": [
  {
   "cell_type": "code",
   "execution_count": 1,
   "id": "5407464b",
   "metadata": {},
   "outputs": [
    {
     "data": {
      "text/plain": [
       "['country',\n",
       " 'cities',\n",
       " 'rivers',\n",
       " 'airports',\n",
       " 'border',\n",
       " 'states',\n",
       " 'municipalities']"
      ]
     },
     "execution_count": 1,
     "metadata": {},
     "output_type": "execute_result"
    }
   ],
   "source": [
    "from  fiona import listlayers\n",
    "import os\n",
    "\n",
    "romaniaMaps=os.path.join('maps','romaniaMaps_3844_all.gpkg')\n",
    "\n",
    "#layers in maps\n",
    "listlayers(romaniaMaps)"
   ]
  },
  {
   "cell_type": "code",
   "execution_count": 2,
   "id": "acddefb6",
   "metadata": {},
   "outputs": [],
   "source": [
    "import os\n",
    "import geopandas as gpd\n",
    "\n",
    "states=gpd.read_file(romaniaMaps,layer='states')\n",
    "municipalities=gpd.read_file(romaniaMaps,layer='municipalities')\n",
    "airports=gpd.read_file(romaniaMaps,layer='airports')\n",
    "rivers=gpd.read_file(romaniaMaps,layer='rivers')\n",
    "border=gpd.read_file(romaniaMaps,layer='border')"
   ]
  },
  {
   "cell_type": "code",
   "execution_count": 3,
   "id": "28b03da9",
   "metadata": {
    "scrolled": false
   },
   "outputs": [
    {
     "data": {
      "text/plain": [
       "['World Port Index Number',\n",
       " 'Region Name',\n",
       " 'Main Port Name',\n",
       " 'Alternate Port Name',\n",
       " 'UN/LOCODE',\n",
       " 'Country Code',\n",
       " 'World Water Body',\n",
       " 'IHO S-130 Sea Area',\n",
       " 'Sailing Direction or Publication',\n",
       " 'Publication Link',\n",
       " 'Standard Nautical Chart',\n",
       " 'IHO S-57 Electronic Navigational Chart',\n",
       " 'IHO S-101 Electronic Navigational Chart',\n",
       " 'Digital Nautical Chart',\n",
       " 'Tidal Range (m)',\n",
       " 'Entrance Width (m)',\n",
       " 'Channel Depth (m)',\n",
       " 'Anchorage Depth (m)',\n",
       " 'Cargo Pier Depth (m)',\n",
       " 'Oil Terminal Depth (m)',\n",
       " 'Liquified Natural Gas Terminal Depth (m)',\n",
       " 'Maximum Vessel Length (m)',\n",
       " 'Maximum Vessel Beam (m)',\n",
       " 'Maximum Vessel Draft (m)',\n",
       " 'Offshore Maximum Vessel Length (m)',\n",
       " 'Offshore Maximum Vessel Beam (m)',\n",
       " 'Offshore Maximum Vessel Draft (m)',\n",
       " 'Harbor Size',\n",
       " 'Harbor Type',\n",
       " 'Harbor Use',\n",
       " 'Shelter Afforded',\n",
       " 'Entrance Restriction - Tide',\n",
       " 'Entrance Restriction - Heavy Swell',\n",
       " 'Entrance Restriction - Ice',\n",
       " 'Entrance Restriction - Other',\n",
       " 'Overhead Limits',\n",
       " 'Underkeel Clearance Management System',\n",
       " 'Good Holding Ground',\n",
       " 'Turning Area',\n",
       " 'Port Security',\n",
       " 'Estimated Time of Arrival Message',\n",
       " 'Quarantine - Pratique',\n",
       " 'Quarantine - Sanitation',\n",
       " 'Quarantine - Other',\n",
       " 'Traffic Separation Scheme',\n",
       " 'Vessel Traffic Service',\n",
       " 'First Port of Entry',\n",
       " 'US Representative',\n",
       " 'Pilotage - Compulsory',\n",
       " 'Pilotage - Available',\n",
       " 'Pilotage - Local Assistance',\n",
       " 'Pilotage - Advisable',\n",
       " 'Tugs - Salvage',\n",
       " 'Tugs - Assistance',\n",
       " 'Communications - Telephone',\n",
       " 'Communications - Telefax',\n",
       " 'Communications - Radio',\n",
       " 'Communications - Radiotelephone',\n",
       " 'Communications - Airport',\n",
       " 'Communications - Rail',\n",
       " 'Search and Rescue',\n",
       " 'NAVAREA',\n",
       " 'Facilities - Wharves',\n",
       " 'Facilities - Anchorage',\n",
       " 'Facilities - Dangerous Cargo Anchorage',\n",
       " 'Facilities - Med Mooring',\n",
       " 'Facilities - Beach Mooring',\n",
       " 'Facilities - Ice Mooring',\n",
       " 'Facilities - Ro-Ro',\n",
       " 'Facilities - Solid Bulk',\n",
       " 'Facilities - Liquid Bulk',\n",
       " 'Facilities - Container',\n",
       " 'Facilities - Breakbulk',\n",
       " 'Facilities - Oil Terminal',\n",
       " 'Facilities - LNG Terminal',\n",
       " 'Facilities - Other',\n",
       " 'Medical Facilities',\n",
       " 'Garbage Disposal',\n",
       " 'Chemical Holding Tank Disposal',\n",
       " 'Degaussing',\n",
       " 'Dirty Ballast Disposal',\n",
       " 'Cranes - Fixed',\n",
       " 'Cranes - Mobile',\n",
       " 'Cranes - Floating',\n",
       " 'Cranes - Container',\n",
       " 'Lifts - 100+ Tons',\n",
       " 'Lifts - 50-100 Tons',\n",
       " 'Lifts - 25-49 Tons',\n",
       " 'Lifts - 0-24 Tons',\n",
       " 'Services - Longshoremen',\n",
       " 'Services - Electricity',\n",
       " 'Services - Steam',\n",
       " 'Services - Navigation Equipment',\n",
       " 'Services - Electrical Repair',\n",
       " 'Services - Ice Breaking',\n",
       " 'Services - Diving',\n",
       " 'Supplies - Provisions',\n",
       " 'Supplies - Potable Water',\n",
       " 'Supplies - Fuel Oil',\n",
       " 'Supplies - Diesel Oil',\n",
       " 'Supplies - Aviation Fuel',\n",
       " 'Supplies - Deck',\n",
       " 'Supplies - Engine',\n",
       " 'Repairs',\n",
       " 'Dry Dock',\n",
       " 'Railway',\n",
       " 'Latitude',\n",
       " 'Longitude']"
      ]
     },
     "execution_count": 3,
     "metadata": {},
     "output_type": "execute_result"
    }
   ],
   "source": [
    "import pandas as pd \n",
    "\n",
    "\n",
    "portsFile=os.path.join('data','UpdatedPub150.csv')\n",
    "\n",
    "infoseaports=pd.read_csv(portsFile)\n",
    "#columns available (so many)\n",
    "infoseaports.columns.to_list()"
   ]
  },
  {
   "cell_type": "code",
   "execution_count": 4,
   "id": "508510bd",
   "metadata": {},
   "outputs": [
    {
     "name": "stdout",
     "output_type": "stream",
     "text": [
      "<class 'pandas.core.frame.DataFrame'>\n",
      "RangeIndex: 3739 entries, 0 to 3738\n",
      "Data columns (total 4 columns):\n",
      " #   Column        Non-Null Count  Dtype  \n",
      "---  ------        --------------  -----  \n",
      " 0   portName      3739 non-null   object \n",
      " 1   Country Code  3739 non-null   object \n",
      " 2   Latitude      3739 non-null   float64\n",
      " 3   Longitude     3739 non-null   float64\n",
      "dtypes: float64(2), object(2)\n",
      "memory usage: 117.0+ KB\n"
     ]
    }
   ],
   "source": [
    "infoseaports.rename(columns={'Main Port Name':'portName'},inplace=True)\n",
    "#subset\n",
    "infoseaports=infoseaports.loc[:,['portName', 'Country Code','Latitude', 'Longitude']]\n",
    "\n",
    "# we have now\n",
    "infoseaports.info()\n",
    "#crs no proyectado: 4326"
   ]
  },
  {
   "cell_type": "code",
   "execution_count": 5,
   "id": "1c04b85b",
   "metadata": {},
   "outputs": [
    {
     "data": {
      "text/html": [
       "<div>\n",
       "<style scoped>\n",
       "    .dataframe tbody tr th:only-of-type {\n",
       "        vertical-align: middle;\n",
       "    }\n",
       "\n",
       "    .dataframe tbody tr th {\n",
       "        vertical-align: top;\n",
       "    }\n",
       "\n",
       "    .dataframe thead th {\n",
       "        text-align: right;\n",
       "    }\n",
       "</style>\n",
       "<table border=\"1\" class=\"dataframe\">\n",
       "  <thead>\n",
       "    <tr style=\"text-align: right;\">\n",
       "      <th></th>\n",
       "      <th>portName</th>\n",
       "      <th>Country Code</th>\n",
       "      <th>Latitude</th>\n",
       "      <th>Longitude</th>\n",
       "    </tr>\n",
       "  </thead>\n",
       "  <tbody>\n",
       "    <tr>\n",
       "      <th>0</th>\n",
       "      <td>Maurer</td>\n",
       "      <td>United States</td>\n",
       "      <td>40.533333</td>\n",
       "      <td>-74.250000</td>\n",
       "    </tr>\n",
       "    <tr>\n",
       "      <th>1</th>\n",
       "      <td>Mangkasa Oil Terminal</td>\n",
       "      <td>Indonesia</td>\n",
       "      <td>-2.733333</td>\n",
       "      <td>121.066667</td>\n",
       "    </tr>\n",
       "    <tr>\n",
       "      <th>2</th>\n",
       "      <td>Iharana</td>\n",
       "      <td>Madagascar</td>\n",
       "      <td>-13.350000</td>\n",
       "      <td>50.000000</td>\n",
       "    </tr>\n",
       "    <tr>\n",
       "      <th>3</th>\n",
       "      <td>Andoany</td>\n",
       "      <td>Madagascar</td>\n",
       "      <td>-13.400000</td>\n",
       "      <td>48.300000</td>\n",
       "    </tr>\n",
       "    <tr>\n",
       "      <th>4</th>\n",
       "      <td>Chake Chake</td>\n",
       "      <td>Tanzania</td>\n",
       "      <td>-5.250000</td>\n",
       "      <td>39.766667</td>\n",
       "    </tr>\n",
       "  </tbody>\n",
       "</table>\n",
       "</div>"
      ],
      "text/plain": [
       "                portName   Country Code   Latitude   Longitude\n",
       "0                 Maurer  United States  40.533333  -74.250000\n",
       "1  Mangkasa Oil Terminal      Indonesia  -2.733333  121.066667\n",
       "2                Iharana     Madagascar -13.350000   50.000000\n",
       "3                Andoany     Madagascar -13.400000   48.300000\n",
       "4            Chake Chake       Tanzania  -5.250000   39.766667"
      ]
     },
     "execution_count": 5,
     "metadata": {},
     "output_type": "execute_result"
    }
   ],
   "source": [
    "# some rows\n",
    "infoseaports.head()"
   ]
  },
  {
   "cell_type": "code",
   "execution_count": 6,
   "id": "0d0a937c",
   "metadata": {},
   "outputs": [],
   "source": [
    "#spatial points (unprojected)\n",
    "seaports=gpd.GeoDataFrame(data=infoseaports.copy(),\n",
    "                           geometry=gpd.points_from_xy(infoseaports.Longitude,\n",
    "                                                       infoseaports.Latitude), \n",
    "                          crs=4326)# no esta proyectado\n",
    "\n",
    "# subset:\n",
    "seaports_ro=seaports[seaports['Country Code']=='Romania'].copy()\n",
    "\n",
    "# reset indexes\n",
    "seaports_ro.reset_index(drop=True, inplace=True)\n",
    "\n",
    "# reprojecting\n",
    "seaports_ro_3844=seaports_ro.to_crs(3844) # proyectado"
   ]
  },
  {
   "cell_type": "code",
   "execution_count": 7,
   "id": "e173b749",
   "metadata": {},
   "outputs": [
    {
     "name": "stdout",
     "output_type": "stream",
     "text": [
      "Index(['name', 'kind', 'latitude_deg', 'longitude_deg', 'elevation_ft',\n",
      "       'region_name', 'municipality', 'geometry'],\n",
      "      dtype='object')\n"
     ]
    }
   ],
   "source": [
    "print(airports.columns)"
   ]
  },
  {
   "cell_type": "code",
   "execution_count": 18,
   "id": "dd76cb72",
   "metadata": {},
   "outputs": [
    {
     "data": {
      "text/plain": [
       "<Axes: >"
      ]
     },
     "execution_count": 18,
     "metadata": {},
     "output_type": "execute_result"
    },
    {
     "data": {
      "image/png": "[encoded data removed]",
      "text/plain": [
       "<Figure size 640x480 with 1 Axes>"
      ]
     },
     "metadata": {},
     "output_type": "display_data"
    }
   ],
   "source": [
    "# subsetting\n",
    "largeAirports=airports[airports['kind']=='large_airport'] #can't use \"airports.type\"\n",
    "largeAirports.reset_index(drop=True, inplace=True)\n",
    "\n",
    "#plotting\n",
    "base=largeAirports.plot(color='red',marker=\"^\")\n",
    "seaports_ro_3844.plot(ax=base,alpha=0.5,markersize=3)"
   ]
  },
  {
   "cell_type": "code",
   "execution_count": 11,
   "id": "a5bb8397",
   "metadata": {},
   "outputs": [
    {
     "data": {
      "text/plain": [
       "<Axes: >"
      ]
     },
     "execution_count": 11,
     "metadata": {},
     "output_type": "execute_result"
    },
    {
     "data": {
      "image/png": "[encoded data removed]",
      "text/plain": [
       "<Figure size 640x480 with 1 Axes>"
      ]
     },
     "metadata": {},
     "output_type": "display_data"
    }
   ],
   "source": [
    "# subsetting\n",
    "mediumAirports=airports[airports['kind']=='medium_airport'] \n",
    "mediumAirports.reset_index(drop=True, inplace=True)\n",
    "\n",
    "#plotting\n",
    "base=mediumAirports.plot(color='red',marker=\"^\")\n",
    "seaports_ro_3844.plot(ax=base,alpha=0.5,markersize=3)"
   ]
  },
  {
   "cell_type": "code",
   "execution_count": 12,
   "id": "66033a7b",
   "metadata": {},
   "outputs": [
    {
     "data": {
      "text/plain": [
       "212.66961528356208"
      ]
     },
     "execution_count": 12,
     "metadata": {},
     "output_type": "execute_result"
    }
   ],
   "source": [
    "# distance between 'Guarulhos' and 'Dtse / Gegua Oil Terminal' in km\n",
    "largeAirports.iloc[0].geometry.distance(seaports_ro_3844.iloc[0].geometry)/1000\n",
    "#geometry para saber la distancia de un punto a otro punto. la distancia sale en km"
   ]
  },
  {
   "cell_type": "code",
   "execution_count": 19,
   "id": "46d5aba0",
   "metadata": {},
   "outputs": [
    {
     "data": {
      "text/html": [
       "<div>\n",
       "<style scoped>\n",
       "    .dataframe tbody tr th:only-of-type {\n",
       "        vertical-align: middle;\n",
       "    }\n",
       "\n",
       "    .dataframe tbody tr th {\n",
       "        vertical-align: top;\n",
       "    }\n",
       "\n",
       "    .dataframe thead th {\n",
       "        text-align: right;\n",
       "    }\n",
       "</style>\n",
       "<table border=\"1\" class=\"dataframe\">\n",
       "  <thead>\n",
       "    <tr style=\"text-align: right;\">\n",
       "      <th>name</th>\n",
       "      <th>Henri Coandă International Airport</th>\n",
       "    </tr>\n",
       "    <tr>\n",
       "      <th>portName</th>\n",
       "      <th></th>\n",
       "    </tr>\n",
       "  </thead>\n",
       "  <tbody>\n",
       "    <tr>\n",
       "      <th>Basarabi</th>\n",
       "      <td>192.523357</td>\n",
       "    </tr>\n",
       "    <tr>\n",
       "      <th>Braila</th>\n",
       "      <td>167.819613</td>\n",
       "    </tr>\n",
       "    <tr>\n",
       "      <th>Cernavoda</th>\n",
       "      <td>158.631942</td>\n",
       "    </tr>\n",
       "    <tr>\n",
       "      <th>Constanta</th>\n",
       "      <td>209.360296</td>\n",
       "    </tr>\n",
       "    <tr>\n",
       "      <th>Danube-Black Sea Canal</th>\n",
       "      <td>170.516918</td>\n",
       "    </tr>\n",
       "    <tr>\n",
       "      <th>Galati</th>\n",
       "      <td>183.462288</td>\n",
       "    </tr>\n",
       "    <tr>\n",
       "      <th>Mangalia</th>\n",
       "      <td>216.645003</td>\n",
       "    </tr>\n",
       "    <tr>\n",
       "      <th>Medgidia</th>\n",
       "      <td>177.415982</td>\n",
       "    </tr>\n",
       "    <tr>\n",
       "      <th>Midia</th>\n",
       "      <td>206.946168</td>\n",
       "    </tr>\n",
       "    <tr>\n",
       "      <th>Sulina</th>\n",
       "      <td>290.711107</td>\n",
       "    </tr>\n",
       "    <tr>\n",
       "      <th>Tulcea</th>\n",
       "      <td>225.799881</td>\n",
       "    </tr>\n",
       "  </tbody>\n",
       "</table>\n",
       "</div>"
      ],
      "text/plain": [
       "name                    Henri Coandă International Airport\n",
       "portName                                                  \n",
       "Basarabi                                        192.523357\n",
       "Braila                                          167.819613\n",
       "Cernavoda                                       158.631942\n",
       "Constanta                                       209.360296\n",
       "Danube-Black Sea Canal                          170.516918\n",
       "Galati                                          183.462288\n",
       "Mangalia                                        216.645003\n",
       "Medgidia                                        177.415982\n",
       "Midia                                           206.946168\n",
       "Sulina                                          290.711107\n",
       "Tulcea                                          225.799881"
      ]
     },
     "execution_count": 19,
     "metadata": {},
     "output_type": "execute_result"
    }
   ],
   "source": [
    "#Hallando \n",
    "seaports_ro_3844.set_index('portName').geometry.apply\\\n",
    "(lambda g: largeAirports.set_index('name').geometry.distance(g)/1000).\\\n",
    "sort_index(axis=0).sort_index(axis=1)"
   ]
  },
  {
   "cell_type": "code",
   "execution_count": 21,
   "id": "0e9e3192",
   "metadata": {},
   "outputs": [
    {
     "ename": "NameError",
     "evalue": "name 'medium_Airports' is not defined",
     "output_type": "error",
     "traceback": [
      "\u001b[1;31m---------------------------------------------------------------------------\u001b[0m",
      "\u001b[1;31mNameError\u001b[0m                                 Traceback (most recent call last)",
      "Cell \u001b[1;32mIn[21], line 1\u001b[0m\n\u001b[1;32m----> 1\u001b[0m seaports_ro_3844\u001b[38;5;241m.\u001b[39mset_index(\u001b[38;5;124m'\u001b[39m\u001b[38;5;124mportName\u001b[39m\u001b[38;5;124m'\u001b[39m)\u001b[38;5;241m.\u001b[39mgeometry\u001b[38;5;241m.\u001b[39mapply\\\n\u001b[0;32m      2\u001b[0m (\u001b[38;5;28;01mlambda\u001b[39;00m g: medium_Airports\u001b[38;5;241m.\u001b[39mset_index(\u001b[38;5;124m'\u001b[39m\u001b[38;5;124mname\u001b[39m\u001b[38;5;124m'\u001b[39m)\u001b[38;5;241m.\u001b[39mgeometry\u001b[38;5;241m.\u001b[39mdistance(g)\u001b[38;5;241m/\u001b[39m\u001b[38;5;241m1000\u001b[39m)\u001b[38;5;241m.\u001b[39m\\\n\u001b[0;32m      3\u001b[0m sort_index(axis\u001b[38;5;241m=\u001b[39m\u001b[38;5;241m0\u001b[39m)\u001b[38;5;241m.\u001b[39msort_index(axis\u001b[38;5;241m=\u001b[39m\u001b[38;5;241m1\u001b[39m)\n",
      "File \u001b[1;32m~\\anaconda3\\envs\\new1\\Lib\\site-packages\\geopandas\\geoseries.py:660\u001b[0m, in \u001b[0;36mGeoSeries.apply\u001b[1;34m(self, func, convert_dtype, args, **kwargs)\u001b[0m\n\u001b[0;32m    657\u001b[0m         kwargs[\u001b[38;5;124m\"\u001b[39m\u001b[38;5;124mconvert_dtype\u001b[39m\u001b[38;5;124m\"\u001b[39m] \u001b[38;5;241m=\u001b[39m \u001b[38;5;28;01mTrue\u001b[39;00m\n\u001b[0;32m    659\u001b[0m \u001b[38;5;66;03m# to avoid warning\u001b[39;00m\n\u001b[1;32m--> 660\u001b[0m result \u001b[38;5;241m=\u001b[39m \u001b[38;5;28msuper\u001b[39m()\u001b[38;5;241m.\u001b[39mapply(func, args\u001b[38;5;241m=\u001b[39margs, \u001b[38;5;241m*\u001b[39m\u001b[38;5;241m*\u001b[39mkwargs)\n\u001b[0;32m    661\u001b[0m \u001b[38;5;28;01mif\u001b[39;00m \u001b[38;5;28misinstance\u001b[39m(result, GeoSeries):\n\u001b[0;32m    662\u001b[0m     \u001b[38;5;28;01mif\u001b[39;00m \u001b[38;5;28mself\u001b[39m\u001b[38;5;241m.\u001b[39mcrs \u001b[38;5;129;01mis\u001b[39;00m \u001b[38;5;129;01mnot\u001b[39;00m \u001b[38;5;28;01mNone\u001b[39;00m:\n",
      "File \u001b[1;32m~\\anaconda3\\envs\\new1\\Lib\\site-packages\\pandas\\core\\series.py:4760\u001b[0m, in \u001b[0;36mSeries.apply\u001b[1;34m(self, func, convert_dtype, args, by_row, **kwargs)\u001b[0m\n\u001b[0;32m   4625\u001b[0m \u001b[38;5;28;01mdef\u001b[39;00m \u001b[38;5;21mapply\u001b[39m(\n\u001b[0;32m   4626\u001b[0m     \u001b[38;5;28mself\u001b[39m,\n\u001b[0;32m   4627\u001b[0m     func: AggFuncType,\n\u001b[1;32m   (...)\u001b[0m\n\u001b[0;32m   4632\u001b[0m     \u001b[38;5;241m*\u001b[39m\u001b[38;5;241m*\u001b[39mkwargs,\n\u001b[0;32m   4633\u001b[0m ) \u001b[38;5;241m-\u001b[39m\u001b[38;5;241m>\u001b[39m DataFrame \u001b[38;5;241m|\u001b[39m Series:\n\u001b[0;32m   4634\u001b[0m \u001b[38;5;250m    \u001b[39m\u001b[38;5;124;03m\"\"\"\u001b[39;00m\n\u001b[0;32m   4635\u001b[0m \u001b[38;5;124;03m    Invoke function on values of Series.\u001b[39;00m\n\u001b[0;32m   4636\u001b[0m \n\u001b[1;32m   (...)\u001b[0m\n\u001b[0;32m   4751\u001b[0m \u001b[38;5;124;03m    dtype: float64\u001b[39;00m\n\u001b[0;32m   4752\u001b[0m \u001b[38;5;124;03m    \"\"\"\u001b[39;00m\n\u001b[0;32m   4753\u001b[0m     \u001b[38;5;28;01mreturn\u001b[39;00m SeriesApply(\n\u001b[0;32m   4754\u001b[0m         \u001b[38;5;28mself\u001b[39m,\n\u001b[0;32m   4755\u001b[0m         func,\n\u001b[0;32m   4756\u001b[0m         convert_dtype\u001b[38;5;241m=\u001b[39mconvert_dtype,\n\u001b[0;32m   4757\u001b[0m         by_row\u001b[38;5;241m=\u001b[39mby_row,\n\u001b[0;32m   4758\u001b[0m         args\u001b[38;5;241m=\u001b[39margs,\n\u001b[0;32m   4759\u001b[0m         kwargs\u001b[38;5;241m=\u001b[39mkwargs,\n\u001b[1;32m-> 4760\u001b[0m     )\u001b[38;5;241m.\u001b[39mapply()\n",
      "File \u001b[1;32m~\\anaconda3\\envs\\new1\\Lib\\site-packages\\pandas\\core\\apply.py:1207\u001b[0m, in \u001b[0;36mSeriesApply.apply\u001b[1;34m(self)\u001b[0m\n\u001b[0;32m   1204\u001b[0m     \u001b[38;5;28;01mreturn\u001b[39;00m \u001b[38;5;28mself\u001b[39m\u001b[38;5;241m.\u001b[39mapply_compat()\n\u001b[0;32m   1206\u001b[0m \u001b[38;5;66;03m# self.func is Callable\u001b[39;00m\n\u001b[1;32m-> 1207\u001b[0m \u001b[38;5;28;01mreturn\u001b[39;00m \u001b[38;5;28mself\u001b[39m\u001b[38;5;241m.\u001b[39mapply_standard()\n",
      "File \u001b[1;32m~\\anaconda3\\envs\\new1\\Lib\\site-packages\\pandas\\core\\apply.py:1287\u001b[0m, in \u001b[0;36mSeriesApply.apply_standard\u001b[1;34m(self)\u001b[0m\n\u001b[0;32m   1281\u001b[0m \u001b[38;5;66;03m# row-wise access\u001b[39;00m\n\u001b[0;32m   1282\u001b[0m \u001b[38;5;66;03m# apply doesn't have a `na_action` keyword and for backward compat reasons\u001b[39;00m\n\u001b[0;32m   1283\u001b[0m \u001b[38;5;66;03m# we need to give `na_action=\"ignore\"` for categorical data.\u001b[39;00m\n\u001b[0;32m   1284\u001b[0m \u001b[38;5;66;03m# TODO: remove the `na_action=\"ignore\"` when that default has been changed in\u001b[39;00m\n\u001b[0;32m   1285\u001b[0m \u001b[38;5;66;03m#  Categorical (GH51645).\u001b[39;00m\n\u001b[0;32m   1286\u001b[0m action \u001b[38;5;241m=\u001b[39m \u001b[38;5;124m\"\u001b[39m\u001b[38;5;124mignore\u001b[39m\u001b[38;5;124m\"\u001b[39m \u001b[38;5;28;01mif\u001b[39;00m \u001b[38;5;28misinstance\u001b[39m(obj\u001b[38;5;241m.\u001b[39mdtype, CategoricalDtype) \u001b[38;5;28;01melse\u001b[39;00m \u001b[38;5;28;01mNone\u001b[39;00m\n\u001b[1;32m-> 1287\u001b[0m mapped \u001b[38;5;241m=\u001b[39m obj\u001b[38;5;241m.\u001b[39m_map_values(\n\u001b[0;32m   1288\u001b[0m     mapper\u001b[38;5;241m=\u001b[39mcurried, na_action\u001b[38;5;241m=\u001b[39maction, convert\u001b[38;5;241m=\u001b[39m\u001b[38;5;28mself\u001b[39m\u001b[38;5;241m.\u001b[39mconvert_dtype\n\u001b[0;32m   1289\u001b[0m )\n\u001b[0;32m   1291\u001b[0m \u001b[38;5;28;01mif\u001b[39;00m \u001b[38;5;28mlen\u001b[39m(mapped) \u001b[38;5;129;01mand\u001b[39;00m \u001b[38;5;28misinstance\u001b[39m(mapped[\u001b[38;5;241m0\u001b[39m], ABCSeries):\n\u001b[0;32m   1292\u001b[0m     \u001b[38;5;66;03m# GH#43986 Need to do list(mapped) in order to get treated as nested\u001b[39;00m\n\u001b[0;32m   1293\u001b[0m     \u001b[38;5;66;03m#  See also GH#25959 regarding EA support\u001b[39;00m\n\u001b[0;32m   1294\u001b[0m     \u001b[38;5;28;01mreturn\u001b[39;00m obj\u001b[38;5;241m.\u001b[39m_constructor_expanddim(\u001b[38;5;28mlist\u001b[39m(mapped), index\u001b[38;5;241m=\u001b[39mobj\u001b[38;5;241m.\u001b[39mindex)\n",
      "File \u001b[1;32m~\\anaconda3\\envs\\new1\\Lib\\site-packages\\pandas\\core\\base.py:919\u001b[0m, in \u001b[0;36mIndexOpsMixin._map_values\u001b[1;34m(self, mapper, na_action, convert)\u001b[0m\n\u001b[0;32m    916\u001b[0m arr \u001b[38;5;241m=\u001b[39m \u001b[38;5;28mself\u001b[39m\u001b[38;5;241m.\u001b[39m_values\n\u001b[0;32m    918\u001b[0m \u001b[38;5;28;01mif\u001b[39;00m \u001b[38;5;28misinstance\u001b[39m(arr, ExtensionArray):\n\u001b[1;32m--> 919\u001b[0m     \u001b[38;5;28;01mreturn\u001b[39;00m arr\u001b[38;5;241m.\u001b[39mmap(mapper, na_action\u001b[38;5;241m=\u001b[39mna_action)\n\u001b[0;32m    921\u001b[0m \u001b[38;5;28;01mreturn\u001b[39;00m algorithms\u001b[38;5;241m.\u001b[39mmap_array(arr, mapper, na_action\u001b[38;5;241m=\u001b[39mna_action, convert\u001b[38;5;241m=\u001b[39mconvert)\n",
      "File \u001b[1;32m~\\anaconda3\\envs\\new1\\Lib\\site-packages\\pandas\\core\\arrays\\base.py:2188\u001b[0m, in \u001b[0;36mExtensionArray.map\u001b[1;34m(self, mapper, na_action)\u001b[0m\n\u001b[0;32m   2168\u001b[0m \u001b[38;5;28;01mdef\u001b[39;00m \u001b[38;5;21mmap\u001b[39m(\u001b[38;5;28mself\u001b[39m, mapper, na_action\u001b[38;5;241m=\u001b[39m\u001b[38;5;28;01mNone\u001b[39;00m):\n\u001b[0;32m   2169\u001b[0m \u001b[38;5;250m    \u001b[39m\u001b[38;5;124;03m\"\"\"\u001b[39;00m\n\u001b[0;32m   2170\u001b[0m \u001b[38;5;124;03m    Map values using an input mapping or function.\u001b[39;00m\n\u001b[0;32m   2171\u001b[0m \n\u001b[1;32m   (...)\u001b[0m\n\u001b[0;32m   2186\u001b[0m \u001b[38;5;124;03m        a MultiIndex will be returned.\u001b[39;00m\n\u001b[0;32m   2187\u001b[0m \u001b[38;5;124;03m    \"\"\"\u001b[39;00m\n\u001b[1;32m-> 2188\u001b[0m     \u001b[38;5;28;01mreturn\u001b[39;00m map_array(\u001b[38;5;28mself\u001b[39m, mapper, na_action\u001b[38;5;241m=\u001b[39mna_action)\n",
      "File \u001b[1;32m~\\anaconda3\\envs\\new1\\Lib\\site-packages\\pandas\\core\\algorithms.py:1814\u001b[0m, in \u001b[0;36mmap_array\u001b[1;34m(arr, mapper, na_action, convert)\u001b[0m\n\u001b[0;32m   1812\u001b[0m values \u001b[38;5;241m=\u001b[39m arr\u001b[38;5;241m.\u001b[39mastype(\u001b[38;5;28mobject\u001b[39m, copy\u001b[38;5;241m=\u001b[39m\u001b[38;5;28;01mFalse\u001b[39;00m)\n\u001b[0;32m   1813\u001b[0m \u001b[38;5;28;01mif\u001b[39;00m na_action \u001b[38;5;129;01mis\u001b[39;00m \u001b[38;5;28;01mNone\u001b[39;00m:\n\u001b[1;32m-> 1814\u001b[0m     \u001b[38;5;28;01mreturn\u001b[39;00m lib\u001b[38;5;241m.\u001b[39mmap_infer(values, mapper, convert\u001b[38;5;241m=\u001b[39mconvert)\n\u001b[0;32m   1815\u001b[0m \u001b[38;5;28;01melse\u001b[39;00m:\n\u001b[0;32m   1816\u001b[0m     \u001b[38;5;28;01mreturn\u001b[39;00m lib\u001b[38;5;241m.\u001b[39mmap_infer_mask(\n\u001b[0;32m   1817\u001b[0m         values, mapper, mask\u001b[38;5;241m=\u001b[39misna(values)\u001b[38;5;241m.\u001b[39mview(np\u001b[38;5;241m.\u001b[39muint8), convert\u001b[38;5;241m=\u001b[39mconvert\n\u001b[0;32m   1818\u001b[0m     )\n",
      "File \u001b[1;32mlib.pyx:2920\u001b[0m, in \u001b[0;36mpandas._libs.lib.map_infer\u001b[1;34m()\u001b[0m\n",
      "Cell \u001b[1;32mIn[21], line 2\u001b[0m, in \u001b[0;36m<lambda>\u001b[1;34m(g)\u001b[0m\n\u001b[0;32m      1\u001b[0m seaports_ro_3844\u001b[38;5;241m.\u001b[39mset_index(\u001b[38;5;124m'\u001b[39m\u001b[38;5;124mportName\u001b[39m\u001b[38;5;124m'\u001b[39m)\u001b[38;5;241m.\u001b[39mgeometry\u001b[38;5;241m.\u001b[39mapply\\\n\u001b[1;32m----> 2\u001b[0m (\u001b[38;5;28;01mlambda\u001b[39;00m g: medium_Airports\u001b[38;5;241m.\u001b[39mset_index(\u001b[38;5;124m'\u001b[39m\u001b[38;5;124mname\u001b[39m\u001b[38;5;124m'\u001b[39m)\u001b[38;5;241m.\u001b[39mgeometry\u001b[38;5;241m.\u001b[39mdistance(g)\u001b[38;5;241m/\u001b[39m\u001b[38;5;241m1000\u001b[39m)\u001b[38;5;241m.\u001b[39m\\\n\u001b[0;32m      3\u001b[0m sort_index(axis\u001b[38;5;241m=\u001b[39m\u001b[38;5;241m0\u001b[39m)\u001b[38;5;241m.\u001b[39msort_index(axis\u001b[38;5;241m=\u001b[39m\u001b[38;5;241m1\u001b[39m)\n",
      "\u001b[1;31mNameError\u001b[0m: name 'medium_Airports' is not defined"
     ]
    }
   ],
   "source": [
    "seaports_ro_3844.set_index('portName').geometry.apply\\\n",
    "(lambda g: mediumAirports.set_index('name').geometry.distance(g)/1000).\\\n",
    "sort_index(axis=0).sort_index(axis=1)"
   ]
  },
  {
   "cell_type": "code",
   "execution_count": null,
   "id": "cda6d0a5",
   "metadata": {},
   "outputs": [],
   "source": []
  },
  {
   "cell_type": "code",
   "execution_count": null,
   "id": "566b7a83",
   "metadata": {},
   "outputs": [],
   "source": []
  }
 ],
 "metadata": {
  "kernelspec": {
   "display_name": "Python 3 (ipykernel)",
   "language": "python",
   "name": "python3"
  },
  "language_info": {
   "codemirror_mode": {
    "name": "ipython",
    "version": 3
   },
   "file_extension": ".py",
   "mimetype": "text/x-python",
   "name": "python",
   "nbconvert_exporter": "python",
   "pygments_lexer": "ipython3",
   "version": "3.11.5"
  }
 },
 "nbformat": 4,
 "nbformat_minor": 5
}
